{
  "nbformat": 4,
  "nbformat_minor": 0,
  "metadata": {
    "kernelspec": {
      "display_name": "Python 3",
      "language": "python",
      "name": "python3"
    },
    "language_info": {
      "codemirror_mode": {
        "name": "ipython",
        "version": 3
      },
      "file_extension": ".py",
      "mimetype": "text/x-python",
      "name": "python",
      "nbconvert_exporter": "python",
      "pygments_lexer": "ipython3",
      "version": "3.7.6"
    },
    "colab": {
      "name": "mnist-dropout.ipynb",
      "provenance": [],
      "include_colab_link": true
    }
  },
  "cells": [
    {
      "cell_type": "markdown",
      "metadata": {
        "id": "view-in-github",
        "colab_type": "text"
      },
      "source": [
        "<a href=\"https://colab.research.google.com/github/IthaRamSaiManoj/DEMD_git_Practice/blob/main/mnist_dropout.ipynb\" target=\"_parent\"><img src=\"https://colab.research.google.com/assets/colab-badge.svg\" alt=\"Open In Colab\"/></a>"
      ]
    },
    {
      "cell_type": "markdown",
      "metadata": {
        "id": "Nex_p8z_iud_"
      },
      "source": [
        "## Without Dropout"
      ]
    },
    {
      "cell_type": "code",
      "metadata": {
        "id": "CBQbqGAjiueH",
        "outputId": "58e7a1dd-bc1b-4caa-946d-7f2c373626b7",
        "colab": {
          "base_uri": "https://localhost:8080/",
          "height": 333
        }
      },
      "source": [
        "from keras.datasets import mnist\n",
        "from matplotlib import pyplot as plt\n",
        "plt.style.use('dark_background')\n",
        "from keras.models import Sequential\n",
        "from keras.layers import Dense, Flatten, Activation, Dropout\n",
        "from keras.utils import normalize, to_categorical"
      ],
      "execution_count": 1,
      "outputs": [
        {
          "output_type": "error",
          "ename": "ImportError",
          "evalue": "ignored",
          "traceback": [
            "\u001b[0;31m---------------------------------------------------------------------------\u001b[0m",
            "\u001b[0;31mImportError\u001b[0m                               Traceback (most recent call last)",
            "\u001b[0;32m<ipython-input-1-ca0d0c0c51f3>\u001b[0m in \u001b[0;36m<module>\u001b[0;34m()\u001b[0m\n\u001b[1;32m      4\u001b[0m \u001b[0;32mfrom\u001b[0m \u001b[0mkeras\u001b[0m\u001b[0;34m.\u001b[0m\u001b[0mmodels\u001b[0m \u001b[0;32mimport\u001b[0m \u001b[0mSequential\u001b[0m\u001b[0;34m\u001b[0m\u001b[0;34m\u001b[0m\u001b[0m\n\u001b[1;32m      5\u001b[0m \u001b[0;32mfrom\u001b[0m \u001b[0mkeras\u001b[0m\u001b[0;34m.\u001b[0m\u001b[0mlayers\u001b[0m \u001b[0;32mimport\u001b[0m \u001b[0mDense\u001b[0m\u001b[0;34m,\u001b[0m \u001b[0mFlatten\u001b[0m\u001b[0;34m,\u001b[0m \u001b[0mActivation\u001b[0m\u001b[0;34m,\u001b[0m \u001b[0mDropout\u001b[0m\u001b[0;34m\u001b[0m\u001b[0;34m\u001b[0m\u001b[0m\n\u001b[0;32m----> 6\u001b[0;31m \u001b[0;32mfrom\u001b[0m \u001b[0mkeras\u001b[0m\u001b[0;34m.\u001b[0m\u001b[0mutils\u001b[0m \u001b[0;32mimport\u001b[0m \u001b[0mnormalize\u001b[0m\u001b[0;34m,\u001b[0m \u001b[0mto_categorical\u001b[0m\u001b[0;34m\u001b[0m\u001b[0;34m\u001b[0m\u001b[0m\n\u001b[0m",
            "\u001b[0;31mImportError\u001b[0m: cannot import name 'normalize' from 'keras.utils' (/usr/local/lib/python3.7/dist-packages/keras/utils/__init__.py)",
            "",
            "\u001b[0;31m---------------------------------------------------------------------------\u001b[0;32m\nNOTE: If your import is failing due to a missing package, you can\nmanually install dependencies using either !pip or !apt.\n\nTo view examples of installing some common dependencies, click the\n\"Open Examples\" button below.\n\u001b[0;31m---------------------------------------------------------------------------\u001b[0m\n"
          ],
          "errorDetails": {
            "actions": [
              {
                "action": "open_url",
                "actionText": "Open Examples",
                "url": "/notebooks/snippets/importing_libraries.ipynb"
              }
            ]
          }
        }
      ]
    },
    {
      "cell_type": "code",
      "metadata": {
        "id": "ziKd7ESsiueK"
      },
      "source": [
        "(X_train, y_train), (X_test, y_test) = mnist.load_data()"
      ],
      "execution_count": null,
      "outputs": []
    },
    {
      "cell_type": "code",
      "metadata": {
        "id": "RqCB8YEoiueL",
        "outputId": "b88336fa-51f3-4084-b5cc-ecba49b25c0d"
      },
      "source": [
        "print(X_train.shape)\n",
        "print(y_train.shape)\n",
        "print(X_test.shape)\n",
        "print(y_test.shape)"
      ],
      "execution_count": null,
      "outputs": [
        {
          "name": "stdout",
          "output_type": "stream",
          "text": [
            "(60000, 28, 28)\n",
            "(60000,)\n",
            "(10000, 28, 28)\n",
            "(10000,)\n"
          ]
        }
      ]
    },
    {
      "cell_type": "code",
      "metadata": {
        "id": "H2XuLFvliueN",
        "outputId": "e35d1b44-803f-4522-8579-8ce5bb167e81"
      },
      "source": [
        "plt.imshow(X_train[0], cmap = plt.cm.binary)\n",
        "plt.show()"
      ],
      "execution_count": null,
      "outputs": [
        {
          "data": {
            "image/png": "[encoded data removed]",
            "text/plain": [
              "<Figure size 432x288 with 1 Axes>"
            ]
          },
          "metadata": {},
          "output_type": "display_data"
        }
      ]
    },
    {
      "cell_type": "markdown",
      "metadata": {
        "id": "d7ryGMKCiueO"
      },
      "source": [
        "There is a little preprocessing that we must perform beforehand. We normalize the pixels (features) such that they range from 0 to 1. This will enable the model to converge towards a solution that much faster. Next, we transform each of the target labels for a given sample into an array of 1s and 0s where the index of the number 1 indicates the digit the the image represents. We do this because otherwise our model would interpret the digit 9 as having a higher priority than the number 3."
      ]
    },
    {
      "cell_type": "code",
      "metadata": {
        "id": "8NPFyhlniueP"
      },
      "source": [
        "X_train = normalize(X_train, axis=1)\n",
        "X_test = normalize(X_test, axis=1)\n",
        "y_train = to_categorical(y_train)\n",
        "y_test = to_categorical(y_test)"
      ],
      "execution_count": null,
      "outputs": []
    },
    {
      "cell_type": "markdown",
      "metadata": {
        "id": "7BswKGlLiueQ"
      },
      "source": [
        "Before feeding a 2 dimensional matrix into a neural network, we use a flatten layer which transforms it into a 1 dimensional array by appending each subsequent row to the one that preceded it. We’re going to be using two hidden layers consisting of 128 neurons each and an output layer consisting of 10 neurons, each for one of the 10 possible digits. The softmax activation function will return the probability that a sample represents a given digit."
      ]
    },
    {
      "cell_type": "code",
      "metadata": {
        "id": "78CsXjNmiueS",
        "outputId": "1302d508-88ce-4114-d52e-954834258b14"
      },
      "source": [
        "model = Sequential()\n",
        "model.add(Flatten(input_shape=(28, 28)))\n",
        "model.add(Dense(128))\n",
        "model.add(Activation('relu'))\n",
        "model.add(Dense(128))\n",
        "model.add(Activation('relu'))\n",
        "model.add(Dense(10))\n",
        "model.add(Activation('softmax'))\n",
        "model.summary()"
      ],
      "execution_count": null,
      "outputs": [
        {
          "name": "stdout",
          "output_type": "stream",
          "text": [
            "Model: \"sequential_1\"\n",
            "_________________________________________________________________\n",
            "Layer (type)                 Output Shape              Param #   \n",
            "=================================================================\n",
            "flatten_1 (Flatten)          (None, 784)               0         \n",
            "_________________________________________________________________\n",
            "dense_1 (Dense)              (None, 128)               100480    \n",
            "_________________________________________________________________\n",
            "activation_1 (Activation)    (None, 128)               0         \n",
            "_________________________________________________________________\n",
            "dense_2 (Dense)              (None, 128)               16512     \n",
            "_________________________________________________________________\n",
            "activation_2 (Activation)    (None, 128)               0         \n",
            "_________________________________________________________________\n",
            "dense_3 (Dense)              (None, 10)                1290      \n",
            "_________________________________________________________________\n",
            "activation_3 (Activation)    (None, 10)                0         \n",
            "=================================================================\n",
            "Total params: 118,282\n",
            "Trainable params: 118,282\n",
            "Non-trainable params: 0\n",
            "_________________________________________________________________\n"
          ]
        }
      ]
    },
    {
      "cell_type": "code",
      "metadata": {
        "id": "dO-TvK4ViueT"
      },
      "source": [
        "model.compile(\n",
        "    loss='categorical_crossentropy',\n",
        "    optimizer='adam',\n",
        "    metrics=['accuracy']\n",
        ")"
      ],
      "execution_count": null,
      "outputs": []
    },
    {
      "cell_type": "code",
      "metadata": {
        "id": "7KAOwMufiueW",
        "outputId": "177b2a5d-9953-42c1-8d0f-4d1fbf1cfe06"
      },
      "source": [
        "history = model.fit(\n",
        "    X_train,\n",
        "    y_train,\n",
        "    epochs=10,\n",
        "    batch_size=32,\n",
        "    validation_split=0.1,\n",
        "    verbose = 1,\n",
        "    shuffle=True\n",
        ")"
      ],
      "execution_count": null,
      "outputs": [
        {
          "name": "stdout",
          "output_type": "stream",
          "text": [
            "WARNING:tensorflow:From C:\\Users\\Arindam1\\anaconda3\\lib\\site-packages\\keras\\backend\\tensorflow_backend.py:422: The name tf.global_variables is deprecated. Please use tf.compat.v1.global_variables instead.\n",
            "\n",
            "Train on 54000 samples, validate on 6000 samples\n",
            "Epoch 1/10\n",
            "54000/54000 [==============================] - 5s 92us/step - loss: 0.2736 - accuracy: 0.9192 - val_loss: 0.1201 - val_accuracy: 0.9653\n",
            "Epoch 2/10\n",
            "54000/54000 [==============================] - 5s 87us/step - loss: 0.1086 - accuracy: 0.9658 - val_loss: 0.0956 - val_accuracy: 0.9728\n",
            "Epoch 3/10\n",
            "54000/54000 [==============================] - 5s 87us/step - loss: 0.0739 - accuracy: 0.9773 - val_loss: 0.0913 - val_accuracy: 0.9723\n",
            "Epoch 4/10\n",
            "54000/54000 [==============================] - 5s 91us/step - loss: 0.0545 - accuracy: 0.9831 - val_loss: 0.0871 - val_accuracy: 0.9740\n",
            "Epoch 5/10\n",
            "54000/54000 [==============================] - 5s 88us/step - loss: 0.0421 - accuracy: 0.9861 - val_loss: 0.0915 - val_accuracy: 0.9748\n",
            "Epoch 6/10\n",
            "54000/54000 [==============================] - 5s 88us/step - loss: 0.0318 - accuracy: 0.9892 - val_loss: 0.0839 - val_accuracy: 0.9785\n",
            "Epoch 7/10\n",
            "54000/54000 [==============================] - 5s 88us/step - loss: 0.0263 - accuracy: 0.9914 - val_loss: 0.1012 - val_accuracy: 0.9732\n",
            "Epoch 8/10\n",
            "54000/54000 [==============================] - 5s 89us/step - loss: 0.0209 - accuracy: 0.9930 - val_loss: 0.0927 - val_accuracy: 0.9760\n",
            "Epoch 9/10\n",
            "54000/54000 [==============================] - 5s 89us/step - loss: 0.0188 - accuracy: 0.9937 - val_loss: 0.1068 - val_accuracy: 0.9737\n",
            "Epoch 10/10\n",
            "54000/54000 [==============================] - 5s 89us/step - loss: 0.0150 - accuracy: 0.9950 - val_loss: 0.0866 - val_accuracy: 0.9798\n"
          ]
        }
      ]
    },
    {
      "cell_type": "code",
      "metadata": {
        "id": "78dZxuqCiueX",
        "outputId": "f7852c45-f3ba-4650-b3e8-08039baf5b09"
      },
      "source": [
        "loss = history.history['loss']\n",
        "val_loss = history.history['val_loss']\n",
        "epochs = range(1, len(loss) + 1)\n",
        "plt.plot(epochs, loss, 'y', label='Training loss')\n",
        "plt.plot(epochs, val_loss, 'r', label='Validation loss')\n",
        "plt.title('Training and validation loss')\n",
        "plt.xlabel('Epochs')\n",
        "plt.ylabel('Loss')\n",
        "plt.legend()\n",
        "plt.show()"
      ],
      "execution_count": null,
      "outputs": [
        {
          "data": {
            "image/png": "[encoded data removed]",
            "text/plain": [
              "<Figure size 432x288 with 1 Axes>"
            ]
          },
          "metadata": {},
          "output_type": "display_data"
        }
      ]
    },
    {
      "cell_type": "markdown",
      "metadata": {
        "id": "ty4g1FJjiueY"
      },
      "source": [
        "Without dropout, the validation loss stops decreasing after the third epoch."
      ]
    },
    {
      "cell_type": "code",
      "metadata": {
        "id": "Oj-dNYU9iueZ",
        "outputId": "c449a274-2412-420a-e51c-2d50c7ed4391"
      },
      "source": [
        "acc = history.history['accuracy']\n",
        "val_acc = history.history['val_accuracy']\n",
        "plt.plot(epochs, acc, 'y', label='Training acc')\n",
        "plt.plot(epochs, val_acc, 'r', label='Validation acc')\n",
        "plt.title('Training and validation accuracy')\n",
        "plt.xlabel('Epochs')\n",
        "plt.ylabel('Accuracy')\n",
        "plt.legend()\n",
        "plt.show()"
      ],
      "execution_count": null,
      "outputs": [
        {
          "data": {
            "image/png": "[encoded data removed]",
            "text/plain": [
              "<Figure size 432x288 with 1 Axes>"
            ]
          },
          "metadata": {},
          "output_type": "display_data"
        }
      ]
    },
    {
      "cell_type": "markdown",
      "metadata": {
        "id": "emq1lmfAiueb"
      },
      "source": [
        "Without dropout, the validation accuracy tends to plateau around the third epoch."
      ]
    },
    {
      "cell_type": "code",
      "metadata": {
        "id": "DYGMAWnciueb",
        "outputId": "c4562e1e-ced3-4c6b-84c6-996b63578ca0"
      },
      "source": [
        "test_loss, test_acc = model.evaluate(X_test, y_test)\n",
        "test_acc"
      ],
      "execution_count": null,
      "outputs": [
        {
          "name": "stdout",
          "output_type": "stream",
          "text": [
            "10000/10000 [==============================] - 0s 44us/step\n"
          ]
        },
        {
          "data": {
            "text/plain": [
              "0.975600004196167"
            ]
          },
          "execution_count": 56,
          "metadata": {},
          "output_type": "execute_result"
        }
      ]
    },
    {
      "cell_type": "markdown",
      "metadata": {
        "id": "KBUUYYDpiuec"
      },
      "source": [
        "## Dropout"
      ]
    },
    {
      "cell_type": "code",
      "metadata": {
        "id": "nUx4E7GLiued",
        "outputId": "a02a0b0c-7d75-4dbd-a521-72d42c0c4a8d"
      },
      "source": [
        "model_dropout = Sequential()\n",
        "model_dropout.add(Flatten(input_shape=(28, 28)))\n",
        "model_dropout.add(Dense(128))\n",
        "model_dropout.add(Dropout(0.5))\n",
        "model_dropout.add(Activation('relu'))\n",
        "model_dropout.add(Dense(128))\n",
        "model_dropout.add(Dropout(0.5))\n",
        "model_dropout.add(Activation('relu'))\n",
        "model_dropout.add(Dense(10))\n",
        "model_dropout.add(Activation('softmax'))\n",
        "model_dropout.summary()"
      ],
      "execution_count": null,
      "outputs": [
        {
          "name": "stdout",
          "output_type": "stream",
          "text": [
            "Model: \"sequential_7\"\n",
            "_________________________________________________________________\n",
            "Layer (type)                 Output Shape              Param #   \n",
            "=================================================================\n",
            "flatten_7 (Flatten)          (None, 784)               0         \n",
            "_________________________________________________________________\n",
            "dense_19 (Dense)             (None, 128)               100480    \n",
            "_________________________________________________________________\n",
            "dropout_5 (Dropout)          (None, 128)               0         \n",
            "_________________________________________________________________\n",
            "activation_19 (Activation)   (None, 128)               0         \n",
            "_________________________________________________________________\n",
            "dense_20 (Dense)             (None, 128)               16512     \n",
            "_________________________________________________________________\n",
            "dropout_6 (Dropout)          (None, 128)               0         \n",
            "_________________________________________________________________\n",
            "activation_20 (Activation)   (None, 128)               0         \n",
            "_________________________________________________________________\n",
            "dense_21 (Dense)             (None, 10)                1290      \n",
            "_________________________________________________________________\n",
            "activation_21 (Activation)   (None, 10)                0         \n",
            "=================================================================\n",
            "Total params: 118,282\n",
            "Trainable params: 118,282\n",
            "Non-trainable params: 0\n",
            "_________________________________________________________________\n"
          ]
        }
      ]
    },
    {
      "cell_type": "code",
      "metadata": {
        "id": "p5oyWhFRiued"
      },
      "source": [
        "model_dropout.compile(\n",
        "    loss='categorical_crossentropy',\n",
        "    optimizer='adam',\n",
        "    metrics=['accuracy']\n",
        ")"
      ],
      "execution_count": null,
      "outputs": []
    },
    {
      "cell_type": "code",
      "metadata": {
        "id": "rJCJ7_CIiuee",
        "outputId": "05a19552-801c-4822-9b9b-8bd8badd8da8"
      },
      "source": [
        "history_dropout = model_dropout.fit(\n",
        "    X_train,\n",
        "    y_train,\n",
        "    epochs=10,\n",
        "    batch_size=32,\n",
        "    validation_split=0.1,\n",
        "    verbose = 1,\n",
        "    shuffle=True\n",
        ")"
      ],
      "execution_count": null,
      "outputs": [
        {
          "name": "stdout",
          "output_type": "stream",
          "text": [
            "Train on 54000 samples, validate on 6000 samples\n",
            "Epoch 1/10\n",
            "54000/54000 [==============================] - 9s 159us/step - loss: 0.5327 - accuracy: 0.8396 - val_loss: 0.1590 - val_accuracy: 0.9527\n",
            "Epoch 2/10\n",
            "54000/54000 [==============================] - 9s 170us/step - loss: 0.2885 - accuracy: 0.9158 - val_loss: 0.1190 - val_accuracy: 0.9643\n",
            "Epoch 3/10\n",
            "54000/54000 [==============================] - 9s 170us/step - loss: 0.2379 - accuracy: 0.9308 - val_loss: 0.1011 - val_accuracy: 0.9705\n",
            "Epoch 4/10\n",
            "54000/54000 [==============================] - 9s 171us/step - loss: 0.2104 - accuracy: 0.9380 - val_loss: 0.0932 - val_accuracy: 0.9730\n",
            "Epoch 5/10\n",
            "54000/54000 [==============================] - 9s 169us/step - loss: 0.1870 - accuracy: 0.9454 - val_loss: 0.0892 - val_accuracy: 0.9712\n",
            "Epoch 6/10\n",
            "54000/54000 [==============================] - 9s 170us/step - loss: 0.1776 - accuracy: 0.9475 - val_loss: 0.0852 - val_accuracy: 0.9747\n",
            "Epoch 7/10\n",
            "54000/54000 [==============================] - 9s 170us/step - loss: 0.1684 - accuracy: 0.9505 - val_loss: 0.0819 - val_accuracy: 0.9752\n",
            "Epoch 8/10\n",
            "54000/54000 [==============================] - 9s 175us/step - loss: 0.1601 - accuracy: 0.9531 - val_loss: 0.0742 - val_accuracy: 0.9767\n",
            "Epoch 9/10\n",
            "54000/54000 [==============================] - 11s 200us/step - loss: 0.1497 - accuracy: 0.9548 - val_loss: 0.0800 - val_accuracy: 0.9747\n",
            "Epoch 10/10\n",
            "54000/54000 [==============================] - 10s 185us/step - loss: 0.1469 - accuracy: 0.9567 - val_loss: 0.0771 - val_accuracy: 0.9772\n"
          ]
        }
      ]
    },
    {
      "cell_type": "code",
      "metadata": {
        "id": "2nXO8iqkiuef",
        "outputId": "f329f218-0135-44cb-c45e-c19c8eb7a087"
      },
      "source": [
        "loss = history_dropout.history['loss']\n",
        "val_loss = history_dropout.history['val_loss']\n",
        "epochs = range(1, len(loss) + 1)\n",
        "plt.plot(epochs, loss, 'y', label='Training loss')\n",
        "plt.plot(epochs, val_loss, 'r', label='Validation loss')\n",
        "plt.title('Training and validation loss')\n",
        "plt.xlabel('Epochs')\n",
        "plt.ylabel('Loss')\n",
        "plt.legend()\n",
        "plt.show()"
      ],
      "execution_count": null,
      "outputs": [
        {
          "data": {
            "image/png": "[encoded data removed]",
            "text/plain": [
              "<Figure size 432x288 with 1 Axes>"
            ]
          },
          "metadata": {},
          "output_type": "display_data"
        }
      ]
    },
    {
      "cell_type": "markdown",
      "metadata": {
        "id": "OeZ_jXFHiuef"
      },
      "source": [
        "As you can see, the validation loss is significantly lower than that obtained using the regular model."
      ]
    },
    {
      "cell_type": "code",
      "metadata": {
        "id": "GfC0DKmWiueg",
        "outputId": "149c6b8c-0721-4bd5-c54b-56ba955c01b9"
      },
      "source": [
        "acc = history_dropout.history['accuracy']\n",
        "val_acc = history_dropout.history['val_accuracy']\n",
        "plt.plot(epochs, acc, 'y', label='Training acc')\n",
        "plt.plot(epochs, val_acc, 'r', label='Validation acc')\n",
        "plt.title('Training and validation accuracy')\n",
        "plt.xlabel('Epochs')\n",
        "plt.ylabel('Accuracy')\n",
        "plt.legend()\n",
        "plt.show()"
      ],
      "execution_count": null,
      "outputs": [
        {
          "data": {
            "image/png": "[encoded data removed]",
            "text/plain": [
              "<Figure size 432x288 with 1 Axes>"
            ]
          },
          "metadata": {},
          "output_type": "display_data"
        }
      ]
    },
    {
      "cell_type": "markdown",
      "metadata": {
        "id": "6I8xiOLSiueg"
      },
      "source": [
        "As you can see, the model converged much faster and obtained an accuracy of close to 98% on the validation set, whereas the previous model plateaued around the third epoch."
      ]
    },
    {
      "cell_type": "markdown",
      "metadata": {
        "id": "Md_hj5IRiueh"
      },
      "source": [
        "The accuracy obtained on the testing set isn’t very different than the one obtained from the model without dropout. This is in all likelihood due to the limited number of samples."
      ]
    },
    {
      "cell_type": "code",
      "metadata": {
        "id": "jau0YqWUiueh",
        "outputId": "5aa13259-3f9d-4e4c-f4f9-c2d96984c0c9"
      },
      "source": [
        "test_loss, test_acc = model_dropout.evaluate(X_test, y_test)\n",
        "test_acc"
      ],
      "execution_count": null,
      "outputs": [
        {
          "name": "stdout",
          "output_type": "stream",
          "text": [
            "10000/10000 [==============================] - 1s 50us/step\n"
          ]
        },
        {
          "data": {
            "text/plain": [
              "0.9722999930381775"
            ]
          },
          "execution_count": 62,
          "metadata": {},
          "output_type": "execute_result"
        }
      ]
    },
    {
      "cell_type": "markdown",
      "metadata": {
        "id": "vAWzIU-Biuei"
      },
      "source": [
        "Dropout can help a model generalize by randomly setting the output for a given neuron to 0. In setting the output to 0, the cost function becomes more sensitive to neighbouring neurons changing the way the weights will be updated during the process of backpropagation."
      ]
    }
  ]
}